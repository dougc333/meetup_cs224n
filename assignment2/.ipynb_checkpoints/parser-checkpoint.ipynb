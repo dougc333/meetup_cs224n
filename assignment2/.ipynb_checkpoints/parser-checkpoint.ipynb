{
 "cells": [
  {
   "cell_type": "markdown",
   "id": "2f6aa187-4946-4e3e-b252-5c53d798cc1b",
   "metadata": {},
   "source": [
    "## Parser\n",
    "<ol>\n",
    "<li>embedding 50 floats long vs. one hot. </li>\n",
    "<li>embedding layer and 2 hidden layers = input layer and 2 hidden layers</li>\n",
    "<li>dropout for regularizations, xavier init to set weights to random values insteaad of settign weights.detach().zero_ and bias.detach().zero_</li>\n",
    "</ol>"
   ]
  },
  {
   "cell_type": "code",
   "execution_count": null,
   "id": "3d56cbd4-c70d-44e8-9a37-0a8e29f1eef5",
   "metadata": {},
   "outputs": [],
   "source": []
  }
 ],
 "metadata": {
  "kernelspec": {
   "display_name": "Python 3 (ipykernel)",
   "language": "python",
   "name": "python3"
  },
  "language_info": {
   "codemirror_mode": {
    "name": "ipython",
    "version": 3
   },
   "file_extension": ".py",
   "mimetype": "text/x-python",
   "name": "python",
   "nbconvert_exporter": "python",
   "pygments_lexer": "ipython3",
   "version": "3.12.2"
  }
 },
 "nbformat": 4,
 "nbformat_minor": 5
}
