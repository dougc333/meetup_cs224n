{
 "cells": [
  {
   "cell_type": "markdown",
   "id": "8d345fb5-d527-43f0-bca1-cd9702c42034",
   "metadata": {},
   "source": [
    " $$- {\\sum y_w log(\\hat{y}_w)} = -log(\\hat{y}_0)$$"
   ]
  },
  {
   "cell_type": "markdown",
   "id": "a8a26b0a-930f-4283-9295-a5ec4aadab94",
   "metadata": {},
   "source": [
    "$y_w$ is the true distribution and is 0 except for where the word O is. $\\hat{y}$ is the estimated true distribution. \n",
    "$y_w$ becomes $y_0log(\\hat{y}_O)$ after the multiply with $y_0$ equal to 1 because all the other terms are 0. "
   ]
  },
  {
   "cell_type": "markdown",
   "id": "33ad6117-6930-4036-8f11-cb19a25dd34d",
   "metadata": {},
   "source": [
    "$$\\frac{J_{native-softmax}(v_c, o, U)}{\\partial{v_c}} = \\frac{\\partial({-log\\frac{exp(u_w^Tv_c)}{\\sum{exp(u_w^Tv_c)}})}}{\\partial{v_c}}$$"
   ]
  },
  {
   "cell_type": "code",
   "execution_count": null,
   "id": "62ea1b98-7008-4506-bf7f-fa80da339467",
   "metadata": {},
   "outputs": [],
   "source": [
    "Stack Buffer New Dependency Transition\n",
    "\n",
    "\n",
    "ROOT,                       [I, presented, my, findings, at, the, NLP, conference] NONE  Initial Configuration\n",
    "ROOT,I,                     [presented, my, findings, at, the, NLP, conference]    NONE     SHIFT\n",
    "ROOT,I presented            [my, findings, at, the, NLP, conference]               NONE     SHIFT\n",
    "ROOT,presented              [my, findings, at, the, NLP, conference]            presented->I  LEFT-ARC\n",
    "ROOT,presented,my           [findings, at, the, NLP, conference]                   NONE  SHIFT\n",
    "ROOT,presented,my,findings  [at, the, NLP, conference]                             NONE SHIFT\n",
    "ROOT,presented,findings  [at, the, NLP, conference]                            findings->my left-arc\n",
    "ROOT ?? can remove 2?            [at, the, NLP, conference]                             findings->presented right-arc\n",
    "ROOT,presented,at     [the, NLP, conference]                        shift\n",
    "ROOT,presented, the          [NLP, conference]                      shift\n",
    "ROOT, presented, the, NLP    [conference]\n"
   ]
  }
 ],
 "metadata": {
  "kernelspec": {
   "display_name": "Python 3 (ipykernel)",
   "language": "python",
   "name": "python3"
  },
  "language_info": {
   "codemirror_mode": {
    "name": "ipython",
    "version": 3
   },
   "file_extension": ".py",
   "mimetype": "text/x-python",
   "name": "python",
   "nbconvert_exporter": "python",
   "pygments_lexer": "ipython3",
   "version": "3.12.2"
  }
 },
 "nbformat": 4,
 "nbformat_minor": 5
}
