{
 "cells": [
  {
   "cell_type": "code",
   "execution_count": null,
   "id": "a04c78d6-a033-447a-9b03-e122daf91f3d",
   "metadata": {},
   "outputs": [],
   "source": []
  },
  {
   "cell_type": "code",
   "execution_count": null,
   "id": "5c5ab284-4e6b-4ea0-a1e1-f7b761217ecb",
   "metadata": {},
   "outputs": [],
   "source": [
    "<h4>RNN</h4>\n",
    "<img src=\"./rnn.png\" alt=\"rnn\" />\n",
    "<a href=\"https://en.wikipedia.org/wiki/Recurrent_neural_network#\">Source</a> \n",
    "<p>The RNN uses a feedback loop to store a previous state. This memory can be unrolled into a previous state, current state and next state. RNNs suffer from a vanishing gradient problem</p>\n",
    "<p>Despite the VG problem, the traditional RNN architectures are a basis for solving sequence type tasks</p>\n",
    "\n"
   ]
  },
  {
   "cell_type": "code",
   "execution_count": 73,
   "id": "0fb74f67-c79d-4f8e-87de-2a71375d0b40",
   "metadata": {},
   "outputs": [
    {
     "name": "stdout",
     "output_type": "stream",
     "text": [
      "20\n",
      "[[0, 1, 2, 3, 4, 5], [6, 7, 8, 9, 10, 11], [12, 13, 14, 15, 16, 17]]\n"
     ]
    }
   ],
   "source": [
    "#https://towardsdatascience.com/pytorch-basics-how-to-train-your-neural-net-intro-to-rnn-cb6ebc594677\n",
    "import math\n",
    "\n",
    "seq = list(range(20))\n",
    "print(len(seq))\n",
    "num = math.floor(len(seq)/3)\n",
    "seq[0:num]\n",
    "seqlen=6\n",
    "batches = [seq[x*seqlen:x*seqlen+num] for x in range(3)]\n",
    "print(batches)"
   ]
  },
  {
   "cell_type": "code",
   "execution_count": 76,
   "id": "b832de2d-20b4-4f6a-86dd-d2ef3f568597",
   "metadata": {},
   "outputs": [
    {
     "name": "stdout",
     "output_type": "stream",
     "text": [
      "[0, 1, 2, 3, 4, 5]\n",
      "[6, 7, 8, 9, 10, 11]\n"
     ]
    }
   ],
   "source": [
    "class MakeBatch:\n",
    "    def __init__(self,batch_size=3, seqlen=6):\n",
    "        self.batch_size=batch_size\n",
    "        self.seqlen = seqlen\n",
    "        self.startValue = 0\n",
    "    def next(self):\n",
    "        data = range(self.startValue , self.startValue + self.seqlen)\n",
    "        self.startValue += self.seqlen\n",
    "        return list(data)\n",
    "\n",
    "g = MakeBatch()\n",
    "print(g.next())\n",
    "print(g.next())"
   ]
  },
  {
   "cell_type": "code",
   "execution_count": 72,
   "id": "c8c62958-8c61-47d4-abdf-7b286d22ebf7",
   "metadata": {},
   "outputs": [
    {
     "name": "stdout",
     "output_type": "stream",
     "text": [
      "0\n",
      "1\n",
      "2\n",
      "3\n"
     ]
    }
   ],
   "source": [
    "#simple python generator example\n",
    "class GenExample:\n",
    "    def __init__(self,seqlen):\n",
    "        self.seqlen=seqlen\n",
    "        self.i = 0\n",
    "    def get_gen(self):\n",
    "        while self.i < (self.seqlen):\n",
    "            yield self.i\n",
    "            self.i+=1\n",
    "        \n",
    "        \n",
    "# lessons 1) cant use a for loop\n",
    "# 2) return a generator object, not the data\n",
    "# 3) the client API is next(gen object)\n",
    "# data pipelines in cloud you have to build APIs as generator objects\n",
    "# cascade gen objects genobj2(genobj1)\n",
    "y = GenExample(5)\n",
    "z = y.get_gen()\n",
    "print(next(z))\n",
    "print(next(z))\n",
    "print(next(z))\n",
    "print(next(z))\n"
   ]
  },
  {
   "cell_type": "code",
   "execution_count": 75,
   "id": "0cddb4ac-c6ad-4415-9509-113f8ea0ca6e",
   "metadata": {},
   "outputs": [
    {
     "name": "stdout",
     "output_type": "stream",
     "text": [
      "[0, 1, 2, 3, 4, 5]\n",
      "[6, 7, 8, 9, 10, 11]\n"
     ]
    }
   ],
   "source": [
    "class GeneratorBatch:\n",
    "    def __init__(self):\n",
    "        self.seqlen=6\n",
    "        self.batch=3\n",
    "        self.idx =0\n",
    "        self.num_batch=0\n",
    "    def get_gen(self):\n",
    "        while self.num_batch < self.batch:\n",
    "            "
   ]
  },
  {
   "cell_type": "code",
   "execution_count": null,
   "id": "ab6438a9-3fe1-4965-b50e-12eb73d3a913",
   "metadata": {},
   "outputs": [],
   "source": []
  }
 ],
 "metadata": {
  "kernelspec": {
   "display_name": "Python 3 (ipykernel)",
   "language": "python",
   "name": "python3"
  },
  "language_info": {
   "codemirror_mode": {
    "name": "ipython",
    "version": 3
   },
   "file_extension": ".py",
   "mimetype": "text/x-python",
   "name": "python",
   "nbconvert_exporter": "python",
   "pygments_lexer": "ipython3",
   "version": "3.10.14"
  }
 },
 "nbformat": 4,
 "nbformat_minor": 5
}
