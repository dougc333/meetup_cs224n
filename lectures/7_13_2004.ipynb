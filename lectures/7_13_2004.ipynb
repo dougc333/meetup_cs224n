{
 "cells": [
  {
   "cell_type": "markdown",
   "id": "b8091cd5-c4a9-4865-8593-21338e014302",
   "metadata": {},
   "source": [
    "<h2> 7/13/2024</h2>\n",
    "\n",
    "<h4>Purpose of group - working group </h4>\n",
    "Review for hw2. \n",
    "\n",
    "<span>1.&nbsp;&nbsp;&nbsp;</span><a href=\"https://www.youtube.com/watch?v=10PTpRRpRk0\">Logistic Regression</a>\n",
    "<hr/>\n",
    "<span>2.&nbsp;&nbsp;&nbsp;</span><a href=\"https://www.youtube.com/watch?v=L0FU8NFpx4E\">Multinomial NN, One hot</a>\n",
    "<hr/>\n",
    "What is the difference between a one hot and embedding? \n"
   ]
  },
  {
   "cell_type": "code",
   "execution_count": 5,
   "id": "19c1fdc4-b966-4675-b330-f0e7c8803005",
   "metadata": {},
   "outputs": [
    {
     "ename": "SyntaxError",
     "evalue": "invalid syntax (2138205041.py, line 1)",
     "output_type": "error",
     "traceback": [
      "\u001b[0;36m  Cell \u001b[0;32mIn[5], line 1\u001b[0;36m\u001b[0m\n\u001b[0;31m    Discord Server:\u001b[0m\n\u001b[0m            ^\u001b[0m\n\u001b[0;31mSyntaxError\u001b[0m\u001b[0;31m:\u001b[0m invalid syntax\n"
     ]
    }
   ],
   "source": [
    "Discord Server:\n",
    "https://discord.gg/kTCRcxG7"
   ]
  },
  {
   "cell_type": "markdown",
   "id": "85acd8c5-9739-423c-ba77-e9f6feb242fe",
   "metadata": {},
   "source": [
    "## Working Group Ideas\n",
    "\n",
    "1) Build Pytorch,  \n",
    "   Practice fixing the source code bugs, replicate the errors on github. Pick a pytorch subsystem\n",
    "2) Build Tensorboard\n",
    "   FEM Angular do not waste time with random YT videos\n",
    "   Practice building a plugin\n",
    "   Unfortunate use of Google tools, 10x worse than current standards. Angular vs. React, protobufs vs JSON, bazel etc...\n",
    "3) Do a NLP or pytorch project, ie. Duplicate detection. Write it up in Leaflet, not a github repo with a readme\n",
    "4) Pytorch deployment, \n",
    "    <https://www.youtube.com/watch?v=HkyWFIbs4JY>\n",
    "    1) TorchServe <https://github.com/pytorch/serve>\n",
    "    2) NVidia Triton <https://github.com/triton-inference-server/server>\n",
    "    3) AWS min 500G!  <https://aws.amazon.com/machine-learning/inferentia/> \n",
    "6) reminder before anyone starts on Leaflet writeups review $P(x|\\theta)$,$P(\\theta|x)$ and $L(x)$ All the blog posts and YT videos are wrong and if you get it wrong it can/will set you back\n",
    "\n",
    "\n"
   ]
  },
  {
   "cell_type": "code",
   "execution_count": null,
   "id": "5a7aa56e-9242-45f6-8cdb-2deaf663a32f",
   "metadata": {},
   "outputs": [],
   "source": [
    "<h5>Cover the top 2 only</h5>"
   ]
  },
  {
   "cell_type": "markdown",
   "id": "8f6ca3ef-2ea7-44be-a2d4-9b930fa23815",
   "metadata": {},
   "source": [
    "<h4> <font color=\"#1F618D\">Build Pytorch  Why is this #1 on the list?</font></h4> \n",
    "\n",
    "There is no Enterprise support for pytorch. This is new. Contrast to other OS projects like Hadoop. \n",
    "Quality of pytorch engineers have to be higher than for DB or BigData where you can buy support from Oracle/Cloudera\n",
    "\n",
    "<https://github.com/pytorch/pytorch/issues>\n",
    "\n",
    "What is procedure for triage? \n",
    "How to you deconstruct this problem? \n",
    "\n"
   ]
  },
  {
   "cell_type": "code",
   "execution_count": null,
   "id": "49659b8f-2ed1-4c75-b011-de7b2b4ae0e2",
   "metadata": {},
   "outputs": [],
   "source": [
    "<p>Can run pytorch on codesandbox? Which bugs can be replicated on CS? Is this a good idea?  </p>"
   ]
  },
  {
   "cell_type": "markdown",
   "id": "8da736b6-1510-4e7b-857e-a427e29fc448",
   "metadata": {},
   "source": [
    "<h4><font color=\"#D35400\">Example</font></h4>\n",
    "<ul>\n",
    "<li>run the test code</li> \n",
    "<li>write test scripts for existing triaged issues</li>\n",
    "<li>If you do both fixing the source code and tests you will run out of time and risk having nothing</li>\n",
    "</ul>\n",
    "<a href=\"https://github.com/pytorch/pytorch/issues/130646\">triaged bug</a>\n",
    "<p>Benefit of group, if we get enough people who can write tests we can get one of the FB pytorch engs to do a guest lecture</p>"
   ]
  },
  {
   "cell_type": "markdown",
   "id": "fa68a0bd-2828-43bf-922e-f14345ec3b60",
   "metadata": {},
   "source": [
    "<h4><font color=\"#1F618D\">Build Tensorboard</font></h4>\n",
    "<ul>\n",
    "<li>Same as above,run tests</li> \n",
    "<li>less emphasis on replicating github issues</li>\n",
    "<li>build plugins</li> \n",
    "<li>Easier than pytorch but with more applicability to all users.</li>\n",
    "<li>Faster to get up to contributing expert. Faster to get hired, can contribute to multiple projects but risk lower pay. May not be classified as ML Eng. \n",
    "Karpathy can do both, UI and Pytorch. hard to be a good MLE without good viz skills</li>\n",
    "</ul>\n",
    "<section>\n",
    "<a href=\"https://frontendmasters.com/courses/angular-fundamentals/\">FEM Angular</a>\n",
    "</section>\n",
    "<section>\n",
    "<a href=\"https://frontendmasters.com/courses/production-angular/\">FEM Production Angular</a>\n",
    "</section>"
   ]
  },
  {
   "cell_type": "code",
   "execution_count": null,
   "id": "b776bfe2-86f2-4aac-8ff3-b5f00079ef0e",
   "metadata": {},
   "outputs": [],
   "source": [
    "hw1 review, who is stuck, screen share\n"
   ]
  },
  {
   "cell_type": "code",
   "execution_count": null,
   "id": "c5d6edd3-d86a-444c-bfe6-1bc399352f2f",
   "metadata": {},
   "outputs": [],
   "source": []
  },
  {
   "cell_type": "code",
   "execution_count": null,
   "id": "93cd3a65-4ef5-477e-aa09-6303960875f0",
   "metadata": {},
   "outputs": [],
   "source": []
  }
 ],
 "metadata": {
  "kernelspec": {
   "display_name": "Python 3 (ipykernel)",
   "language": "python",
   "name": "python3"
  },
  "language_info": {
   "codemirror_mode": {
    "name": "ipython",
    "version": 3
   },
   "file_extension": ".py",
   "mimetype": "text/x-python",
   "name": "python",
   "nbconvert_exporter": "python",
   "pygments_lexer": "ipython3",
   "version": "3.12.2"
  }
 },
 "nbformat": 4,
 "nbformat_minor": 5
}
