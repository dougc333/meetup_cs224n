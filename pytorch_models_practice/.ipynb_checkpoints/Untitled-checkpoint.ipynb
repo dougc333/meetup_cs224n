{
 "cells": [
  {
   "cell_type": "code",
   "execution_count": null,
   "id": "5d00e36d-4e13-4603-8ff4-eeeeb7fbdee1",
   "metadata": {},
   "outputs": [],
   "source": [
    "#https://www.youtube.com/watch?v=6igMArA6k3A\n"
   ]
  }
 ],
 "metadata": {
  "kernelspec": {
   "display_name": "Python 3 (ipykernel)",
   "language": "python",
   "name": "python3"
  },
  "language_info": {
   "codemirror_mode": {
    "name": "ipython",
    "version": 3
   },
   "file_extension": ".py",
   "mimetype": "text/x-python",
   "name": "python",
   "nbconvert_exporter": "python",
   "pygments_lexer": "ipython3",
   "version": "3.12.2"
  }
 },
 "nbformat": 4,
 "nbformat_minor": 5
}
