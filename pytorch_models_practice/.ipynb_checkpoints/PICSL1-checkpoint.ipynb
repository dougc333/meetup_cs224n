{
 "cells": [
  {
   "cell_type": "code",
   "execution_count": null,
   "id": "f8c5814b-c0e9-4566-9926-f8884cc309e9",
   "metadata": {},
   "outputs": [],
   "source": [
    "# Logistic Regression \n",
    "### Perceptron linearly seperable, add xxx to fix convergence problems, multiple input nodes, one output node\n",
    "### Impovement over Perceptron, Loss Fn Cross Entropy vs MSE, multiple outputs for multipclass logistic regression \n",
    "\n"
   ]
  }
 ],
 "metadata": {
  "kernelspec": {
   "display_name": "Python 3 (ipykernel)",
   "language": "python",
   "name": "python3"
  },
  "language_info": {
   "codemirror_mode": {
    "name": "ipython",
    "version": 3
   },
   "file_extension": ".py",
   "mimetype": "text/x-python",
   "name": "python",
   "nbconvert_exporter": "python",
   "pygments_lexer": "ipython3",
   "version": "3.12.2"
  }
 },
 "nbformat": 4,
 "nbformat_minor": 5
}
