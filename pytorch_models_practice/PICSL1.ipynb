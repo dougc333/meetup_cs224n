{
 "cells": [
  {
   "cell_type": "markdown",
   "id": "5f16264a-118e-49a3-aac7-080d61696625",
   "metadata": {},
   "source": [
    "# Logistic Regression \n",
    "### Perceptron linearly seperable, add xxx to fix convergence problems, multiple input nodes, one output node\n",
    "![perceptron](./images/perceptron.png)\n",
    "### Impovement over Perceptron, Loss Fn Cross Entropy vs MSE, multiple outputs for multipclass logistic regression \n",
    "![perceptron](./images/logistic_multiclass.png)\n"
   ]
  },
  {
   "cell_type": "code",
   "execution_count": null,
   "id": "e98ea720-9150-43f2-97c8-5e6d95598564",
   "metadata": {},
   "outputs": [],
   "source": []
  }
 ],
 "metadata": {
  "kernelspec": {
   "display_name": "Python 3 (ipykernel)",
   "language": "python",
   "name": "python3"
  },
  "language_info": {
   "codemirror_mode": {
    "name": "ipython",
    "version": 3
   },
   "file_extension": ".py",
   "mimetype": "text/x-python",
   "name": "python",
   "nbconvert_exporter": "python",
   "pygments_lexer": "ipython3",
   "version": "3.12.2"
  }
 },
 "nbformat": 4,
 "nbformat_minor": 5
}
