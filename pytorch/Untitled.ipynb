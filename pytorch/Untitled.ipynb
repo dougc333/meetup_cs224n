{
 "cells": [
  {
   "cell_type": "code",
   "execution_count": 2,
   "id": "5f02ec09-a78b-43fd-a1e2-a010bef69c06",
   "metadata": {},
   "outputs": [
    {
     "name": "stdout",
     "output_type": "stream",
     "text": [
      "\n",
      "aten.mul.Tensor(*(tensor([1.+1.j], requires_grad=True), tensor([-0.0788-0.0851j])), **{})\n",
      "tensor([0.0063-0.1639j])\n",
      "\n",
      "aten.mul.Tensor(*(tensor([1.+1.j], requires_grad=True), tensor([-0.0788-0.0851j])), **{})\n",
      "tensor([-0.1639+0.0063j])\n",
      "\n",
      "aten.mul.Tensor(*(tensor([1.+1.j], grad_fn=<CloneBackward0>), tensor([-0.0788-0.0851j])), **{})\n",
      "tensor([-0.1639+0.0063j])\n"
     ]
    }
   ],
   "source": [
    "import torch\n",
    "from torch.testing._internal.two_tensor import TwoTensor\n",
    "torch.manual_seed(123)\n",
    "\n",
    "class Log(torch.utils._python_dispatch.TorchDispatchMode):\n",
    "    def __torch_dispatch__(self, func, types, args, kwargs=None):\n",
    "        if TwoTensor in types:\n",
    "            return NotImplemented\n",
    "        res = func(*args, **kwargs)\n",
    "        if func is torch.ops.aten.mul.Tensor:\n",
    "            print(f\"\\n{func}(*{args}, **{kwargs})\")\n",
    "            print(res)\n",
    "        return res\n",
    "\n",
    "a = torch.tensor([1+1j], dtype=torch.complex64,  requires_grad=True)\n",
    "b = torch.randn((1,), dtype=torch.complex64)\n",
    "\n",
    "with Log():\n",
    "    a * b.conj()\n",
    "\n",
    "a = TwoTensor(a, a.clone())\n",
    "b = TwoTensor(b, b.clone())\n",
    "\n",
    "with Log():\n",
    "    a * b.conj()\n",
    "\n"
   ]
  },
  {
   "cell_type": "code",
   "execution_count": null,
   "id": "600529cf-1127-49e0-ab55-1f2fe87140b1",
   "metadata": {},
   "outputs": [],
   "source": [
    "aten.mul.Tensor(*(tensor([1.+1.j], device='cuda:0', requires_grad=True), tensor([0.9469-0.1451j], device='cuda:0')), **{})\n",
    "tensor([1.0920+0.8018j], device='cuda:0')\n",
    "\n",
    "aten.mul.Tensor(*(tensor([1.+1.j], device='cuda:0', requires_grad=True), tensor([0.9469-0.1451j], device='cuda:0')), **{})\n",
    "tensor([0.8018+1.0920j], device='cuda:0')\n",
    "\n",
    "aten.mul.Tensor(*(tensor([1.+1.j], device='cuda:0', grad_fn=<CloneBackward0>), tensor([0.9469-0.1451j], device='cuda:0')), **{})\n",
    "tensor([0.8018+1.0920j], device='cuda:0')"
   ]
  }
 ],
 "metadata": {
  "kernelspec": {
   "display_name": "Python 3 (ipykernel)",
   "language": "python",
   "name": "python3"
  },
  "language_info": {
   "codemirror_mode": {
    "name": "ipython",
    "version": 3
   },
   "file_extension": ".py",
   "mimetype": "text/x-python",
   "name": "python",
   "nbconvert_exporter": "python",
   "pygments_lexer": "ipython3",
   "version": "3.12.2"
  }
 },
 "nbformat": 4,
 "nbformat_minor": 5
}
