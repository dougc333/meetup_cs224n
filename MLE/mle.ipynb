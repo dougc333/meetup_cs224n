{
 "cells": [
  {
   "cell_type": "markdown",
   "id": "ee679a91-af3b-4075-9324-885bd83a8b49",
   "metadata": {},
   "source": [
    "# Review the notation and definitions \n",
    "\n",
    "## PDF, PMF Probability Density Function, Probability Mass Functions\n",
    "\n",
    "## How to define Probability, samples and distributions? And why do we need them?  \n",
    "Starting with the intuitive notion of a coin flip, 50% of H/T or 1/6 of {1-6} for a single dice roll. We record multiple coin flips or dice rolls as a single sample as: \n",
    "\n",
    "$$\\{y_1 \\  y_2 \\ y_n\\}$$\n",
    "\n",
    "Most people write the above with commas as: \n",
    "\n",
    "$$\\{y_1, y_2,..., y_n\\}$$\n",
    "\n",
    "The commas are confusing and some think these represent multiple samples. \n",
    "\n",
    "Example:\n",
    "1 coin flip = $\\{y_1\\}=\\{H\\}$ P(y)=1/2\n",
    "\n",
    "1 coin flipped twice or 2 separate coins flipped once = $\\{y_1, y_2\\}=\\{HH\\}$ P(y)=1/4\n",
    "\n",
    "1 coin flipped 3x or 3 separate coins flipped once = $\\{y_1, y_2, y_3\\} = \\{HHT\\}$ P(y)=1/8\n",
    "\n",
    "Each coin flip or dice roll is an event. \n",
    "\n",
    "These events can be modeled as taking samples from a distribution which occur in a closed system. We will get to closed in Entropy. The samples are y and the distribution is theta.\n",
    "\n",
    "$$P(y|\\theta)$$ \n",
    "\n",
    "An important distinction is theta is fixed. \n",
    "It is not a random variable.  \n",
    "If theta was a random variable we would be taking a bayesian approach. \n",
    "We will revisit this.\n",
    "\n",
    "Y is our dataset and theta is the distribution which we are going to make a model for with pytorch. \n",
    " \n",
    "                                   \n",
    "Our goal is to get to an equation which we can start writing pytorch code from. This is going to be a template moving forward for all our DL programs. The loss function equation is a common starting point for replicating published DL papers. \n",
    "\n",
    "## Probability mass/density function, PMF/PDF\n",
    "\n",
    "The PDF/PMF for events and a distribution is $$P(y_1,y_2,y_3...y_n | \\theta) = \\prod{P(y_i|\\theta)} $$\n",
    "\n",
    "A quick aside on coin flips and dice rolls. There is a randomness in data like the variation in dice or coin flips. \n",
    "Where else do we see this? Cars driving in a freeway where there is a posted speed limit, clinical trials for drugs. Almost every data set has randomness. If we are unable to describe this or put a bounds on the randomness then we cannot define outliers.\n",
    "the randomness can increase with temperature or any other external event. One way to describe randomness intuitively to someone is to say with relation to a coin flip, Heads plus/minus 50% or 1/6 the chance you get a 4 on a dice roll. \n",
    "Another way is to hand them a distribution or PMF/PDF and not have to say anything. Once we finish the next few sections we will have a more complete description of theta.  \n",
    "    \n",
    "The problem with the verbal descriptions is we are unable to take derivatives and build a model for theta. \n",
    "\n",
    "\n",
    "\n",
    "\n",
    "\n",
    "    \n",
    "\n",
    "\n",
    "\n",
    "\n"
   ]
  },
  {
   "cell_type": "code",
   "execution_count": null,
   "id": "b5457db4-b46f-4f04-b56a-0f83b65325cf",
   "metadata": {},
   "outputs": [],
   "source": [
    "## Liklihood Functions\n",
    "\n",
    "PMF/PDFs from above are used when $y_n$ is not known and $\\theta$ is known. In the case of the dice and coin we can see all the possible events/samples by physically observing the coin/dice.  \n",
    "For example we have a formula for a binomial distribution for $\\theta$ and we want to generate random samples. Our problem in ML is the opposite. We already have the data samples,  $y_n$, the unknown is $\\theta$. \n",
    "A liklihood function has this form: $$L(y_n|\\theta)$$ The capital L script notation describes a likelihood function. This is not a function yet because we do not have\n",
    "a specification with any function parameters. The liklihood fn has $y_n$ fixed and theta unknown. We did not do anything yet, only replacing the P with a L. \n",
    "\n",
    "There is a well known process for converting a PMF/PDF to a liklihood function.\n",
    "\n",
    "The process to convert from a PMF/PDF which is goverened by the probability axioms, for example the sum/integral add up to one to a Likelihood function where the sum/integration limits are\n",
    "the number of samples is very tricky. I have never seen a CS Phd understand this fully. The only people I have seen understand this in depth are Fabinger and some statistics Phds\n",
    " "
   ]
  },
  {
   "cell_type": "code",
   "execution_count": null,
   "id": "fdf484ec-3ba8-4697-9380-029f85b461b0",
   "metadata": {},
   "outputs": [],
   "source": [
    "## Coin Flips, Bernoulli Distribution\n",
    "To get to a likelihood function for the con toss we substitute in the equation for the bernoulli distribution:\n",
    "\\begin{equation}\n",
    "P({y|\\theta}) =\n",
    "    \\begin{cases}\n",
    "      1-theta & \\text{if y = 0}\\\\\n",
    "      \\theta & \\text{if y = 1}\\\\\n",
    "    \\end{cases}       \n",
    "\\end{equation}\n",
    "\n",
    "\n"
   ]
  },
  {
   "cell_type": "markdown",
   "id": "f779f27f-ea3f-495c-8415-d73c4027af9e",
   "metadata": {},
   "source": [
    "This does not exactly match the precision from deFreites\\' lectures where he describes sampling as applying a histogram estimator to a Lebesque integral.\n",
    "# pyro\n"
   ]
  },
  {
   "cell_type": "code",
   "execution_count": null,
   "id": "62b908c0-ab2a-4c6d-929d-95de2435fff2",
   "metadata": {},
   "outputs": [],
   "source": []
  },
  {
   "cell_type": "code",
   "execution_count": null,
   "id": "033576fd-4d5d-4a7b-af0d-f6ebfedbcfb4",
   "metadata": {},
   "outputs": [],
   "source": []
  }
 ],
 "metadata": {
  "kernelspec": {
   "display_name": "Python 3 (ipykernel)",
   "language": "python",
   "name": "python3"
  },
  "language_info": {
   "codemirror_mode": {
    "name": "ipython",
    "version": 3
   },
   "file_extension": ".py",
   "mimetype": "text/x-python",
   "name": "python",
   "nbconvert_exporter": "python",
   "pygments_lexer": "ipython3",
   "version": "3.12.2"
  }
 },
 "nbformat": 4,
 "nbformat_minor": 5
}
