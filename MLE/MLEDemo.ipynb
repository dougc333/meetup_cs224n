{
 "cells": [
  {
   "cell_type": "code",
   "execution_count": 19,
   "id": "770a3e33-1ce8-4131-a205-04ff01b6f878",
   "metadata": {},
   "outputs": [],
   "source": [
    "#https://github.com/mlosch/pytorch-stats/blob/master/stats/estimation/mle.py\n",
    "import numpy as np\n",
    "import torch\n",
    "from torch.autograd import Variable\n",
    "from stats import normal\n",
    "from stats import tensor\n",
    "\n",
    "a = normal.Normal(1,.2)\n",
    "#from stats.estimation import map\n",
    "#from stats.tensor import tensor"
   ]
  },
  {
   "cell_type": "code",
   "execution_count": 20,
   "id": "1e4314e8-7a00-471d-8acb-fb5489a0615d",
   "metadata": {},
   "outputs": [],
   "source": [
    "from stats import map\n",
    "def fit(func, parameters, observations, iter=1000, lr=0.1):\n",
    "    \"\"\"Estimates the parameters of an arbitrary function via maximum likelihood estimation and\n",
    "    uses plain old gradient descent for optimization\n",
    "\n",
    "\n",
    "    Parameters\n",
    "    ----------\n",
    "    func :          Callable pdf\n",
    "                    Callable probability density function (likelihood function)\n",
    "                    expecting an array of observations as the only argument.\n",
    "    parameters :    List\n",
    "                    List of parameters that are subject to optimization.\n",
    "    observations :  ndarray\n",
    "                    Observations from an unknown pdf which parameters are subject to be estimated\n",
    "    iter :          float\n",
    "                    Maximum number of iterations\n",
    "    lr :            float\n",
    "                    Gradient descent learning rate\n",
    "\n",
    "    Returns\n",
    "    -------\n",
    "\n",
    "    \"\"\"\n",
    "\n",
    "    # Use MAP with uniform prior\n",
    "    prior_ = Variable(tensor.tensor(1.0))\n",
    "    return map.fit(func, lambda x: prior_, parameters, observations, iter, lr)\n",
    "\n",
    "    # Explicit implementation without prior:\n",
    "    # for i in range(iter):\n",
    "    #     # Define objective function (log-likelihood) to maximize\n",
    "    #     likelihood = torch.mean(torch.log(func(observations)))\n",
    "    #\n",
    "    #     # Determine gradients\n",
    "    #     likelihood.backward()\n",
    "    #\n",
    "    #     # Update parameters with gradient descent\n",
    "    #     for param in parameters:\n",
    "    #         param.data.add_(lr * param.grad.data)\n",
    "    #         param.grad.data.zero_()\n"
   ]
  },
  {
   "cell_type": "code",
   "execution_count": 21,
   "id": "f86ede2f-d573-41ed-b12b-9ab79521845c",
   "metadata": {},
   "outputs": [
    {
     "name": "stdout",
     "output_type": "stream",
     "text": [
      "Estimated parameter: {0.967802997962377, 0.9369087586376985}, True parameter: {0.9651460492899104, 0.9316213836005022}\n"
     ]
    }
   ],
   "source": [
    "from stats import normal \n",
    "from stats import tensor\n",
    "\"\"\"\n",
    "Estimate mean and std of a normal distribution via MLE on 10000 observations\n",
    "\"\"\"\n",
    "\n",
    "mean = Variable(tensor.tensor(0), requires_grad=True)\n",
    "std = Variable(tensor.tensor(1), requires_grad=True)\n",
    "\n",
    "pdf = normal.Normal(mean, std)\n",
    "\n",
    "# Sample observations from a normal distribution function with different parameter\n",
    "true_mean = np.random.rand()\n",
    "true_std = np.random.rand()\n",
    "x = true_mean + np.random.randn(10000) * true_std\n",
    "x = Variable(tensor.tensor(x))\n",
    "\n",
    "fit(pdf, [mean, std], x)\n",
    "\n",
    "print('Estimated parameter: {{{}, {}}}, True parameter: {{{}, {}}}'.format(mean.data[0], std.data[0], true_mean, true_std))\n"
   ]
  },
  {
   "cell_type": "code",
   "execution_count": null,
   "id": "d1b25f4d-f3db-4f27-86a4-b97079f317ef",
   "metadata": {},
   "outputs": [],
   "source": []
  }
 ],
 "metadata": {
  "kernelspec": {
   "display_name": "Python 3 (ipykernel)",
   "language": "python",
   "name": "python3"
  },
  "language_info": {
   "codemirror_mode": {
    "name": "ipython",
    "version": 3
   },
   "file_extension": ".py",
   "mimetype": "text/x-python",
   "name": "python",
   "nbconvert_exporter": "python",
   "pygments_lexer": "ipython3",
   "version": "3.12.4"
  }
 },
 "nbformat": 4,
 "nbformat_minor": 5
}
