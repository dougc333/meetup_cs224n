{
 "cells": [
  {
   "cell_type": "code",
   "execution_count": 9,
   "id": "0bb657db-07f1-4e6c-bdfc-3e8204fb5508",
   "metadata": {},
   "outputs": [],
   "source": [
    "import numpy as np\n",
    "import torch\n",
    "from torch.autograd import Variable\n"
   ]
  },
  {
   "cell_type": "code",
   "execution_count": 5,
   "id": "b8b3c18a-d06b-4d41-a740-d64a33dbd2f1",
   "metadata": {},
   "outputs": [
    {
     "data": {
      "text/plain": [
       "0.6071428571428571"
      ]
     },
     "execution_count": 5,
     "metadata": {},
     "output_type": "execute_result"
    }
   ],
   "source": [
    "data = np.array([1,1,1,0,1,1,1,0,0,0,0,0,0,1,1,1,0,0,1,0,0,1,1,1,1,1,1,1])\n",
    "np.mean(data)"
   ]
  },
  {
   "cell_type": "markdown",
   "id": "8f676573-1d5e-4436-a72b-4ef4e59e735a",
   "metadata": {},
   "source": [
    "$$ P(x_i=1)=p $$\n",
    "$$ P(x_i=0)=1-p $$\n",
    "$$ P(x_i | p) = x_i*p + (1-x_i)*(1-p) $$\n",
    "$$ P(x|p) = \\prod_i {P(x_i | p)} $$\n",
    "$$ log P(x|p) = \\sum_i {log P(x_i | p)} $$\n",
    "$$ -log P(x|p) = - \\sum_i{log P(x_i|p)}$$"
   ]
  },
  {
   "cell_type": "code",
   "execution_count": 20,
   "id": "87bb580f-d96b-489e-8077-07ec8d0fffae",
   "metadata": {},
   "outputs": [
    {
     "name": "stdout",
     "output_type": "stream",
     "text": [
      "log_lik = 23.04199 p= [0.8373742] dLL/dp [47.761173]\n",
      "log_lik = 20.592842 p= [0.76883394] dLL/dp [25.593748]\n",
      "log_lik = 19.711525 p= [0.72726786] dLL/dp [17.018797]\n",
      "log_lik = 19.291729 p= [0.6984986] dLL/dp [12.184156]\n",
      "log_lik = 19.06873 p= [0.67750484] dLL/dp [9.042801]\n",
      "log_lik = 18.943394 p= [0.6617555] dLL/dp [6.850107]\n",
      "log_lik = 18.870573 p= [0.6497466] dLL/dp [5.2554417]\n",
      "log_lik = 18.82736 p= [0.6404932] dLL/dp [4.0657177]\n",
      "log_lik = 18.801353 p= [0.6333137] dLL/dp [3.1633148]\n",
      "log_lik = 18.785551 p= [0.6277162] dLL/dp [2.4710999]\n",
      "log_lik = 18.775879 p= [0.6233371] dLL/dp [1.9359684]\n",
      "log_lik = 18.76993 p= [0.6199028] dLL/dp [1.5199718]\n",
      "log_lik = 18.76626 p= [0.6172039] dLL/dp [1.1952133]\n",
      "log_lik = 18.763985 p= [0.61508054] dLL/dp [0.94099617]\n",
      "log_lik = 18.762575 p= [0.6134081] dLL/dp [0.74152374]\n",
      "log_lik = 18.7617 p= [0.6120897] dLL/dp [0.5847473]\n",
      "log_lik = 18.761154 p= [0.6110497] dLL/dp [0.46136475]\n",
      "log_lik = 18.760815 p= [0.610229] dLL/dp [0.36416245]\n",
      "log_lik = 18.760603 p= [0.6095811] dLL/dp [0.28753662]\n",
      "log_lik = 18.76047 p= [0.6090694] dLL/dp [0.22708702]\n",
      "log_lik = 18.76039 p= [0.6086653] dLL/dp [0.17938805]\n",
      "log_lik = 18.760336 p= [0.608346] dLL/dp [0.14172363]\n",
      "log_lik = 18.760305 p= [0.6080938] dLL/dp [0.11199188]\n",
      "log_lik = 18.760284 p= [0.60789454] dLL/dp [0.08851242]\n",
      "log_lik = 18.760273 p= [0.607737] dLL/dp [0.06994629]\n"
     ]
    }
   ],
   "source": [
    "x = Variable(torch.from_numpy(data)).type(torch.FloatTensor)\n",
    "p = Variable(torch.rand(1),requires_grad=True)\n",
    "\n",
    "learning_rate = 0.00002\n",
    "lam = 1000.0\n",
    "\n",
    "for t in range(2500):\n",
    "    NLL = -torch.sum(torch.log(x*p + (1-x)*(1-p)))\n",
    "    NLL.backward()\n",
    "    p.data -= learning_rate * p.grad.data\n",
    "    if t % 100 == 0:\n",
    "        print(\"log_lik =\", NLL.data.numpy(),\"p=\",p.data.numpy(), \"dLL/dp\", p.grad.data.numpy())\n",
    "    p.grad.data.zero_()\n",
    "    "
   ]
  },
  {
   "cell_type": "code",
   "execution_count": null,
   "id": "56899d95-5183-4c9f-8ca6-11b5082eacb7",
   "metadata": {},
   "outputs": [],
   "source": []
  }
 ],
 "metadata": {
  "kernelspec": {
   "display_name": "Python 3 (ipykernel)",
   "language": "python",
   "name": "python3"
  },
  "language_info": {
   "codemirror_mode": {
    "name": "ipython",
    "version": 3
   },
   "file_extension": ".py",
   "mimetype": "text/x-python",
   "name": "python",
   "nbconvert_exporter": "python",
   "pygments_lexer": "ipython3",
   "version": "3.12.2"
  }
 },
 "nbformat": 4,
 "nbformat_minor": 5
}
