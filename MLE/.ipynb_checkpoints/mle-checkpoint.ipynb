{
 "cells": [
  {
   "cell_type": "code",
   "execution_count": 1,
   "id": "ce032ca3-741c-48ed-b2bd-f26c6022164b",
   "metadata": {},
   "outputs": [],
   "source": [
    "import torch\n",
    "import numpy as np\n",
    "import pandas as pd\n",
    "import matplotlib.pyplot as plt\n",
    "from scipy.stats import norm\n",
    "\n",
    "from scipy.optimize import minimize\n",
    "from datetime import datetime as datetime\n",
    "import pandas as pd\n",
    "from torchmin import minimize\n"
   ]
  },
  {
   "cell_type": "code",
   "execution_count": 2,
   "id": "37714e5d-c56d-4b31-b2c7-1bae3e2f65b9",
   "metadata": {},
   "outputs": [],
   "source": [
    "N = 50000\n",
    "K = 100\n",
    "b = np.random.randn(K)\n",
    "b[0] = b[0] + 3.\n",
    "# True error std deviation\n",
    "sigma_e = 1.\n",
    "\n",
    "x = np.c_[np.ones(N), np.random.randn(N,K-1)]\n",
    "y = x.dot(b) + sigma_e * np.random.randn(N)\n",
    "\n",
    "# estimate parameter vector, errors, sd of errors, and se of parameters\n",
    "bols = np.linalg.inv(x.T.dot(x)).dot(x.T.dot(y))\n",
    "err = y - x.dot(bols)\n",
    "sigma_ols = np.sqrt(err.dot(err)/(x.shape[0] - x.shape[1]))\n",
    "se = np.sqrt(err.dot(err)/(x.shape[0] - x.shape[1]) * np.diagonal(np.linalg.inv(x.T.dot(x))))\n",
    "# put results together for easy viewing\n",
    "ols_parms = np.r_[bols, sigma_ols]\n",
    "ols_se = np.r_[se, np.nan]\n",
    "indexn = ['b'+str(i) for i in range(K)]\n",
    "indexn.extend(['sigma'])"
   ]
  },
  {
   "cell_type": "code",
   "execution_count": 3,
   "id": "81bb4ff0-0428-4438-87f4-940fd86a91a9",
   "metadata": {},
   "outputs": [],
   "source": [
    "X = torch.tensor(x, dtype=torch.float32)\n",
    "Y = torch.tensor(y, dtype=torch.float32)\n",
    "# initialize parameter vector:\n",
    "#  betas in first K positions and sigma in last\n",
    "startvals = np.append(np.random.randn(K), 1.)\n",
    "omega = torch.tensor(startvals, dtype=torch.float32, requires_grad=True)"
   ]
  },
  {
   "cell_type": "code",
   "execution_count": 4,
   "id": "9b1f7daa-b713-4a01-9d14-19585bb96750",
   "metadata": {},
   "outputs": [],
   "source": [
    "def ols_loglike(omega):\n",
    "    # divide omega into beta, sigma\n",
    "    beta = omega[:-1]\n",
    "    sigma = omega[-1]\n",
    "    # xb (mu_i for each observation)\n",
    "    mu = torch.mv(X, beta)\n",
    "    # this is normal pdf logged and summed over all observations\n",
    "    ll = - (Y.shape[0]/2.)*torch.log(2.*torch.pi*sigma**2) -\\\n",
    "        (1./(2.*sigma**2.))*torch.sum(((Y-mu)**2.))\n",
    "    return -1.*ll"
   ]
  },
  {
   "cell_type": "code",
   "execution_count": 5,
   "id": "f12aee37-616a-4a19-a442-74de995ba4d1",
   "metadata": {},
   "outputs": [
    {
     "name": "stdout",
     "output_type": "stream",
     "text": [
      "Convergence achieved in  12703  iterations\n",
      "-LogL Value:  70797.34375\n",
      "Mean |gradient|:  0.8444837331771851\n"
     ]
    }
   ],
   "source": [
    "gd = torch.optim.SGD([omega], lr=1e-5)\n",
    "history_gd = []\n",
    "time_start = datetime.now()\n",
    "for i in range(100000):\n",
    "    gd.zero_grad()\n",
    "    objective = ols_loglike(omega)\n",
    "    objective.backward()\n",
    "    gd.step()\n",
    "    history_gd.append(objective.item())\n",
    "    if (i>1) and (np.abs(history_gd[-1] - history_gd[-2]) < .00001):\n",
    "        print(\"Convergence achieved in \", i+1, \" iterations\")\n",
    "        print(\"-LogL Value: \", objective.item())\n",
    "        print(\"Mean |gradient|: \", torch.abs(omega.grad).mean().item())\n",
    "        break\n",
    "\n",
    "time_pytorch = datetime.now() - time_start"
   ]
  },
  {
   "cell_type": "code",
   "execution_count": 6,
   "id": "ed704751-7135-47d5-8141-824c46482844",
   "metadata": {},
   "outputs": [
    {
     "data": {
      "text/plain": [
       "tensor([-2.7907,  1.4819, -0.1564, -0.6926,  1.2557,  2.5091,  0.3326, -3.0271,\n",
       "        -1.9848,  2.1362])"
      ]
     },
     "execution_count": 6,
     "metadata": {},
     "output_type": "execute_result"
    }
   ],
   "source": [
    "omega.grad[:10]"
   ]
  },
  {
   "cell_type": "code",
   "execution_count": 8,
   "id": "3c9f7344-59c8-47c8-88bc-10fe258ecbe7",
   "metadata": {},
   "outputs": [
    {
     "ename": "TypeError",
     "evalue": "ols_loglike() takes 1 positional argument but 3 were given",
     "output_type": "error",
     "traceback": [
      "\u001b[0;31m---------------------------------------------------------------------------\u001b[0m",
      "\u001b[0;31mTypeError\u001b[0m                                 Traceback (most recent call last)",
      "Cell \u001b[0;32mIn[8], line 6\u001b[0m\n\u001b[1;32m      4\u001b[0m omega \u001b[38;5;241m=\u001b[39m torch\u001b[38;5;241m.\u001b[39mtensor(startvals, dtype\u001b[38;5;241m=\u001b[39mtorch\u001b[38;5;241m.\u001b[39mfloat32, requires_grad\u001b[38;5;241m=\u001b[39m\u001b[38;5;28;01mTrue\u001b[39;00m)\n\u001b[1;32m      5\u001b[0m time_start \u001b[38;5;241m=\u001b[39m datetime\u001b[38;5;241m.\u001b[39mnow()\n\u001b[0;32m----> 6\u001b[0m res \u001b[38;5;241m=\u001b[39m minimize(\u001b[38;5;28;01mlambda\u001b[39;00m x: ols_loglike(x, Y, X),\n\u001b[1;32m      7\u001b[0m                omega, method\u001b[38;5;241m=\u001b[39m\u001b[38;5;124m'\u001b[39m\u001b[38;5;124ml-bfgs\u001b[39m\u001b[38;5;124m'\u001b[39m, tol\u001b[38;5;241m=\u001b[39m\u001b[38;5;241m1e-5\u001b[39m)\n\u001b[1;32m      8\u001b[0m time_pyt_scipy \u001b[38;5;241m=\u001b[39m datetime\u001b[38;5;241m.\u001b[39mnow() \u001b[38;5;241m-\u001b[39m time_start\n",
      "File \u001b[0;32m/opt/miniconda3/envs/cs224n/lib/python3.12/site-packages/torchmin/minimize.py:91\u001b[0m, in \u001b[0;36mminimize\u001b[0;34m(fun, x0, method, max_iter, tol, options, callback, disp, return_all)\u001b[0m\n\u001b[1;32m     89\u001b[0m     \u001b[38;5;28;01mreturn\u001b[39;00m _minimize_bfgs(fun, x0, \u001b[38;5;241m*\u001b[39m\u001b[38;5;241m*\u001b[39moptions)\n\u001b[1;32m     90\u001b[0m \u001b[38;5;28;01melif\u001b[39;00m method \u001b[38;5;241m==\u001b[39m \u001b[38;5;124m'\u001b[39m\u001b[38;5;124ml-bfgs\u001b[39m\u001b[38;5;124m'\u001b[39m:\n\u001b[0;32m---> 91\u001b[0m     \u001b[38;5;28;01mreturn\u001b[39;00m _minimize_lbfgs(fun, x0, \u001b[38;5;241m*\u001b[39m\u001b[38;5;241m*\u001b[39moptions)\n\u001b[1;32m     92\u001b[0m \u001b[38;5;28;01melif\u001b[39;00m method \u001b[38;5;241m==\u001b[39m \u001b[38;5;124m'\u001b[39m\u001b[38;5;124mcg\u001b[39m\u001b[38;5;124m'\u001b[39m:\n\u001b[1;32m     93\u001b[0m     \u001b[38;5;28;01mreturn\u001b[39;00m _minimize_cg(fun, x0, \u001b[38;5;241m*\u001b[39m\u001b[38;5;241m*\u001b[39moptions)\n",
      "File \u001b[0;32m/opt/miniconda3/envs/cs224n/lib/python3.12/site-packages/torchmin/bfgs.py:381\u001b[0m, in \u001b[0;36m_minimize_lbfgs\u001b[0;34m(fun, x0, lr, history_size, max_iter, line_search, gtol, xtol, normp, callback, disp, return_all)\u001b[0m\n\u001b[1;32m    337\u001b[0m \u001b[38;5;28;01mdef\u001b[39;00m \u001b[38;5;21m_minimize_lbfgs\u001b[39m(\n\u001b[1;32m    338\u001b[0m         fun, x0, lr\u001b[38;5;241m=\u001b[39m\u001b[38;5;241m1.\u001b[39m, history_size\u001b[38;5;241m=\u001b[39m\u001b[38;5;241m100\u001b[39m, max_iter\u001b[38;5;241m=\u001b[39m\u001b[38;5;28;01mNone\u001b[39;00m,\n\u001b[1;32m    339\u001b[0m         line_search\u001b[38;5;241m=\u001b[39m\u001b[38;5;124m'\u001b[39m\u001b[38;5;124mstrong-wolfe\u001b[39m\u001b[38;5;124m'\u001b[39m, gtol\u001b[38;5;241m=\u001b[39m\u001b[38;5;241m1e-5\u001b[39m, xtol\u001b[38;5;241m=\u001b[39m\u001b[38;5;241m1e-9\u001b[39m,\n\u001b[1;32m    340\u001b[0m         normp\u001b[38;5;241m=\u001b[39m\u001b[38;5;28mfloat\u001b[39m(\u001b[38;5;124m'\u001b[39m\u001b[38;5;124minf\u001b[39m\u001b[38;5;124m'\u001b[39m), callback\u001b[38;5;241m=\u001b[39m\u001b[38;5;28;01mNone\u001b[39;00m, disp\u001b[38;5;241m=\u001b[39m\u001b[38;5;241m0\u001b[39m, return_all\u001b[38;5;241m=\u001b[39m\u001b[38;5;28;01mFalse\u001b[39;00m):\n\u001b[1;32m    341\u001b[0m \u001b[38;5;250m    \u001b[39m\u001b[38;5;124;03m\"\"\"Minimize a multivariate function with L-BFGS\u001b[39;00m\n\u001b[1;32m    342\u001b[0m \n\u001b[1;32m    343\u001b[0m \u001b[38;5;124;03m    Parameters\u001b[39;00m\n\u001b[0;32m   (...)\u001b[0m\n\u001b[1;32m    379\u001b[0m \u001b[38;5;124;03m        Result of the optimization routine.\u001b[39;00m\n\u001b[1;32m    380\u001b[0m \u001b[38;5;124;03m    \"\"\"\u001b[39;00m\n\u001b[0;32m--> 381\u001b[0m     \u001b[38;5;28;01mreturn\u001b[39;00m _minimize_bfgs_core(\n\u001b[1;32m    382\u001b[0m         fun, x0, lr, low_mem\u001b[38;5;241m=\u001b[39m\u001b[38;5;28;01mTrue\u001b[39;00m, history_size\u001b[38;5;241m=\u001b[39mhistory_size,\n\u001b[1;32m    383\u001b[0m         max_iter\u001b[38;5;241m=\u001b[39mmax_iter, line_search\u001b[38;5;241m=\u001b[39mline_search, gtol\u001b[38;5;241m=\u001b[39mgtol, xtol\u001b[38;5;241m=\u001b[39mxtol,\n\u001b[1;32m    384\u001b[0m         normp\u001b[38;5;241m=\u001b[39mnormp, callback\u001b[38;5;241m=\u001b[39mcallback, disp\u001b[38;5;241m=\u001b[39mdisp, return_all\u001b[38;5;241m=\u001b[39mreturn_all)\n",
      "File \u001b[0;32m/opt/miniconda3/envs/cs224n/lib/python3.12/site-packages/torch/utils/_contextlib.py:115\u001b[0m, in \u001b[0;36mcontext_decorator.<locals>.decorate_context\u001b[0;34m(*args, **kwargs)\u001b[0m\n\u001b[1;32m    112\u001b[0m \u001b[38;5;129m@functools\u001b[39m\u001b[38;5;241m.\u001b[39mwraps(func)\n\u001b[1;32m    113\u001b[0m \u001b[38;5;28;01mdef\u001b[39;00m \u001b[38;5;21mdecorate_context\u001b[39m(\u001b[38;5;241m*\u001b[39margs, \u001b[38;5;241m*\u001b[39m\u001b[38;5;241m*\u001b[39mkwargs):\n\u001b[1;32m    114\u001b[0m     \u001b[38;5;28;01mwith\u001b[39;00m ctx_factory():\n\u001b[0;32m--> 115\u001b[0m         \u001b[38;5;28;01mreturn\u001b[39;00m func(\u001b[38;5;241m*\u001b[39margs, \u001b[38;5;241m*\u001b[39m\u001b[38;5;241m*\u001b[39mkwargs)\n",
      "File \u001b[0;32m/opt/miniconda3/envs/cs224n/lib/python3.12/site-packages/torchmin/bfgs.py:169\u001b[0m, in \u001b[0;36m_minimize_bfgs_core\u001b[0;34m(fun, x0, lr, low_mem, history_size, inv_hess, max_iter, line_search, gtol, xtol, normp, callback, disp, return_all)\u001b[0m\n\u001b[1;32m    167\u001b[0m \u001b[38;5;66;03m# compute initial f(x) and f'(x)\u001b[39;00m\n\u001b[1;32m    168\u001b[0m x \u001b[38;5;241m=\u001b[39m x0\u001b[38;5;241m.\u001b[39mdetach()\u001b[38;5;241m.\u001b[39mview(\u001b[38;5;241m-\u001b[39m\u001b[38;5;241m1\u001b[39m)\u001b[38;5;241m.\u001b[39mclone(memory_format\u001b[38;5;241m=\u001b[39mtorch\u001b[38;5;241m.\u001b[39mcontiguous_format)\n\u001b[0;32m--> 169\u001b[0m f, g, _, _ \u001b[38;5;241m=\u001b[39m closure(x)\n\u001b[1;32m    170\u001b[0m \u001b[38;5;28;01mif\u001b[39;00m disp \u001b[38;5;241m>\u001b[39m \u001b[38;5;241m1\u001b[39m:\n\u001b[1;32m    171\u001b[0m     \u001b[38;5;28mprint\u001b[39m(\u001b[38;5;124m'\u001b[39m\u001b[38;5;124minitial fval: \u001b[39m\u001b[38;5;132;01m%0.4f\u001b[39;00m\u001b[38;5;124m'\u001b[39m \u001b[38;5;241m%\u001b[39m f)\n",
      "File \u001b[0;32m/opt/miniconda3/envs/cs224n/lib/python3.12/site-packages/torchmin/function.py:109\u001b[0m, in \u001b[0;36mScalarFunction.closure\u001b[0;34m(self, x)\u001b[0m\n\u001b[1;32m    107\u001b[0m x \u001b[38;5;241m=\u001b[39m x\u001b[38;5;241m.\u001b[39mdetach()\u001b[38;5;241m.\u001b[39mrequires_grad_(\u001b[38;5;28;01mTrue\u001b[39;00m)\n\u001b[1;32m    108\u001b[0m \u001b[38;5;28;01mwith\u001b[39;00m torch\u001b[38;5;241m.\u001b[39menable_grad():\n\u001b[0;32m--> 109\u001b[0m     f \u001b[38;5;241m=\u001b[39m \u001b[38;5;28mself\u001b[39m\u001b[38;5;241m.\u001b[39mfun(x)\n\u001b[1;32m    110\u001b[0m     grad \u001b[38;5;241m=\u001b[39m autograd\u001b[38;5;241m.\u001b[39mgrad(f, x, create_graph\u001b[38;5;241m=\u001b[39m\u001b[38;5;28mself\u001b[39m\u001b[38;5;241m.\u001b[39m_hessp \u001b[38;5;129;01mor\u001b[39;00m \u001b[38;5;28mself\u001b[39m\u001b[38;5;241m.\u001b[39m_hess)[\u001b[38;5;241m0\u001b[39m]\n\u001b[1;32m    111\u001b[0m \u001b[38;5;28;01mif\u001b[39;00m (\u001b[38;5;28mself\u001b[39m\u001b[38;5;241m.\u001b[39m_hessp \u001b[38;5;129;01mor\u001b[39;00m \u001b[38;5;28mself\u001b[39m\u001b[38;5;241m.\u001b[39m_hess) \u001b[38;5;129;01mand\u001b[39;00m grad\u001b[38;5;241m.\u001b[39mgrad_fn \u001b[38;5;129;01mis\u001b[39;00m \u001b[38;5;28;01mNone\u001b[39;00m:\n",
      "File \u001b[0;32m/opt/miniconda3/envs/cs224n/lib/python3.12/site-packages/torchmin/function.py:93\u001b[0m, in \u001b[0;36mScalarFunction.fun\u001b[0;34m(self, x)\u001b[0m\n\u001b[1;32m     91\u001b[0m \u001b[38;5;28;01mif\u001b[39;00m x\u001b[38;5;241m.\u001b[39mshape \u001b[38;5;241m!=\u001b[39m \u001b[38;5;28mself\u001b[39m\u001b[38;5;241m.\u001b[39m_x_shape:\n\u001b[1;32m     92\u001b[0m     x \u001b[38;5;241m=\u001b[39m x\u001b[38;5;241m.\u001b[39mview(\u001b[38;5;28mself\u001b[39m\u001b[38;5;241m.\u001b[39m_x_shape)\n\u001b[0;32m---> 93\u001b[0m f \u001b[38;5;241m=\u001b[39m \u001b[38;5;28mself\u001b[39m\u001b[38;5;241m.\u001b[39m_fun(x)\n\u001b[1;32m     94\u001b[0m \u001b[38;5;28;01mif\u001b[39;00m f\u001b[38;5;241m.\u001b[39mnumel() \u001b[38;5;241m!=\u001b[39m \u001b[38;5;241m1\u001b[39m:\n\u001b[1;32m     95\u001b[0m     \u001b[38;5;28;01mraise\u001b[39;00m \u001b[38;5;167;01mRuntimeError\u001b[39;00m(\u001b[38;5;124m'\u001b[39m\u001b[38;5;124mScalarFunction was supplied a function \u001b[39m\u001b[38;5;124m'\u001b[39m\n\u001b[1;32m     96\u001b[0m                        \u001b[38;5;124m'\u001b[39m\u001b[38;5;124mthat does not return scalar outputs.\u001b[39m\u001b[38;5;124m'\u001b[39m)\n",
      "Cell \u001b[0;32mIn[8], line 6\u001b[0m, in \u001b[0;36m<lambda>\u001b[0;34m(x)\u001b[0m\n\u001b[1;32m      4\u001b[0m omega \u001b[38;5;241m=\u001b[39m torch\u001b[38;5;241m.\u001b[39mtensor(startvals, dtype\u001b[38;5;241m=\u001b[39mtorch\u001b[38;5;241m.\u001b[39mfloat32, requires_grad\u001b[38;5;241m=\u001b[39m\u001b[38;5;28;01mTrue\u001b[39;00m)\n\u001b[1;32m      5\u001b[0m time_start \u001b[38;5;241m=\u001b[39m datetime\u001b[38;5;241m.\u001b[39mnow()\n\u001b[0;32m----> 6\u001b[0m res \u001b[38;5;241m=\u001b[39m minimize(\u001b[38;5;28;01mlambda\u001b[39;00m x: ols_loglike(x, Y, X),\n\u001b[1;32m      7\u001b[0m                omega, method\u001b[38;5;241m=\u001b[39m\u001b[38;5;124m'\u001b[39m\u001b[38;5;124ml-bfgs\u001b[39m\u001b[38;5;124m'\u001b[39m, tol\u001b[38;5;241m=\u001b[39m\u001b[38;5;241m1e-5\u001b[39m)\n\u001b[1;32m      8\u001b[0m time_pyt_scipy \u001b[38;5;241m=\u001b[39m datetime\u001b[38;5;241m.\u001b[39mnow() \u001b[38;5;241m-\u001b[39m time_start\n",
      "\u001b[0;31mTypeError\u001b[0m: ols_loglike() takes 1 positional argument but 3 were given"
     ]
    }
   ],
   "source": [
    "# initialize parameter vector:\n",
    "#  betas in first K positions and sigma in last\n",
    "startvals = np.append(np.random.randn(K), 1.)\n",
    "omega = torch.tensor(startvals, dtype=torch.float32, requires_grad=True)\n",
    "time_start = datetime.now()\n",
    "res = minimize(lambda x: ols_loglike_(x, Y, X),\n",
    "               omega, method='l-bfgs', tol=1e-5)\n",
    "time_pyt_scipy = datetime.now() - time_start"
   ]
  },
  {
   "cell_type": "code",
   "execution_count": 10,
   "id": "ef552329-dd83-4f5e-a5ab-98d76e5546f5",
   "metadata": {},
   "outputs": [
    {
     "ename": "NameError",
     "evalue": "name 'res' is not defined",
     "output_type": "error",
     "traceback": [
      "\u001b[0;31m---------------------------------------------------------------------------\u001b[0m",
      "\u001b[0;31mNameError\u001b[0m                                 Traceback (most recent call last)",
      "Cell \u001b[0;32mIn[10], line 1\u001b[0m\n\u001b[0;32m----> 1\u001b[0m hessian_ \u001b[38;5;241m=\u001b[39m torch\u001b[38;5;241m.\u001b[39mautograd\u001b[38;5;241m.\u001b[39mfunctional\u001b[38;5;241m.\u001b[39mhessian(\u001b[38;5;28;01mlambda\u001b[39;00m x: ols_loglike_(x, Y, X), res\u001b[38;5;241m.\u001b[39mx)\n\u001b[1;32m      2\u001b[0m se_torch_ \u001b[38;5;241m=\u001b[39m torch\u001b[38;5;241m.\u001b[39msqrt(torch\u001b[38;5;241m.\u001b[39mlinalg\u001b[38;5;241m.\u001b[39mdiagonal(torch\u001b[38;5;241m.\u001b[39mlinalg\u001b[38;5;241m.\u001b[39minv(hessian_)))\n\u001b[1;32m      3\u001b[0m results[\u001b[38;5;124m'\u001b[39m\u001b[38;5;124mtorch/scipy estimate\u001b[39m\u001b[38;5;124m'\u001b[39m] \u001b[38;5;241m=\u001b[39m res\u001b[38;5;241m.\u001b[39mx\u001b[38;5;241m.\u001b[39mdata\u001b[38;5;241m.\u001b[39mcpu()\u001b[38;5;241m.\u001b[39mnumpy()\n",
      "\u001b[0;31mNameError\u001b[0m: name 'res' is not defined"
     ]
    }
   ],
   "source": [
    "hessian_ = torch.autograd.functional.hessian(lambda x: ols_loglike_(x, Y, X), res.x)\n",
    "se_torch_ = torch.sqrt(torch.linalg.diagonal(torch.linalg.inv(hessian_)))\n",
    "results['torch/scipy estimate'] = res.x.data.cpu().numpy()\n",
    "results['torch/scipy std err'] = se_torch_.data.cpu().numpy()\n",
    "\n",
    "midx = pd.MultiIndex.from_product([['OLS', 'Pytorch', 'Pytorch + Scipy'], ['estimate', 'std err']])\n",
    "results.columns = midx\n",
    "results.head()"
   ]
  },
  {
   "cell_type": "code",
   "execution_count": null,
   "id": "f811f01d-31b0-4870-b87a-5095a4128256",
   "metadata": {},
   "outputs": [],
   "source": [
    "results = pd.DataFrame(np.c_[ols_parms, ols_se],columns=['estimate', 'std err'], index=indexn)\n",
    "\n",
    "midx = pd.MultiIndex.from_product([['OLS', 'Pytorch'], ['estimate', 'std err']])\n",
    "results['torch estimate'] = omega.data.cpu().numpy()\n",
    "results['torch std err'] = se_torch.data.cpu().numpy()\n",
    "results.columns = midx\n",
    "\n",
    "results.head()"
   ]
  }
 ],
 "metadata": {
  "kernelspec": {
   "display_name": "Python 3 (ipykernel)",
   "language": "python",
   "name": "python3"
  },
  "language_info": {
   "codemirror_mode": {
    "name": "ipython",
    "version": 3
   },
   "file_extension": ".py",
   "mimetype": "text/x-python",
   "name": "python",
   "nbconvert_exporter": "python",
   "pygments_lexer": "ipython3",
   "version": "3.12.4"
  }
 },
 "nbformat": 4,
 "nbformat_minor": 5
}
