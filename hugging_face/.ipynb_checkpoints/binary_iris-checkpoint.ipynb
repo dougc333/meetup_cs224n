{
 "cells": [
  {
   "cell_type": "code",
   "execution_count": null,
   "id": "a2917178-d736-411c-945a-d233f58a7d2d",
   "metadata": {},
   "outputs": [],
   "source": [
    "#https://www.kaggle.com/datasets/saurabh00007/iriscsv\n"
   ]
  }
 ],
 "metadata": {
  "kernelspec": {
   "display_name": "Python 3 (ipykernel)",
   "language": "python",
   "name": "python3"
  },
  "language_info": {
   "codemirror_mode": {
    "name": "ipython",
    "version": 3
   },
   "file_extension": ".py",
   "mimetype": "text/x-python",
   "name": "python",
   "nbconvert_exporter": "python",
   "pygments_lexer": "ipython3",
   "version": "3.12.4"
  }
 },
 "nbformat": 4,
 "nbformat_minor": 5
}
